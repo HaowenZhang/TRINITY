{
 "cells": [
  {
   "cell_type": "code",
   "execution_count": 1,
   "metadata": {},
   "outputs": [],
   "source": [
    "#This notebook converts the data provided by James Aird to the format that can be read by our model.\n",
    "import pandas as pd\n",
    "import numpy as np"
   ]
  },
  {
   "cell_type": "code",
   "execution_count": 24,
   "metadata": {},
   "outputs": [
    {
     "name": "stdout",
     "output_type": "stream",
     "text": [
      "[0.1 0.5 1.  1.5 2.  2.5 3. ]\n",
      "[0.5 1.  1.5 2.  2.5 3.  4. ]\n",
      "[ 5.84070796  5.70570571  5.62632696 ... 34.71615721 35.26086957\n",
      " 34.57446809]\n",
      "[29.16129032 29.21052632 29.07407407 ... 80.35087719 82.14285714\n",
      " 83.92857143]\n",
      "[-3.08 -1.56 -0.04  1.48]\n",
      "[-3.24 -1.72 -0.12  1.4 ]\n",
      "[-3.48 -1.88 -0.28  1.32]\n",
      "[-3.64 -2.04 -0.36  1.32]\n",
      "[-3.8  -2.12 -0.44  1.24]\n",
      "[-3.96 -2.28 -0.52  1.24]\n",
      "[-2.6  -1.24  0.2   1.56]\n",
      "[-2.76 -1.32  0.12  1.56]\n",
      "[-3.   -1.56 -0.04  1.48]\n",
      "[-3.16 -1.64 -0.12  1.4 ]\n",
      "[-3.32 -1.8  -0.2   1.4 ]\n",
      "[-3.48 -1.88 -0.28  1.32]\n",
      "[-2.36 -1.08  0.28  1.64]\n",
      "[-2.6  -1.24  0.2   1.56]\n",
      "[-2.76 -1.32  0.12  1.56]\n",
      "[-2.92 -1.48  0.04  1.48]\n",
      "[-3.08 -1.56 -0.04  1.48]\n",
      "[-2.2  -0.92  0.36  1.64]\n",
      "[-2.44 -1.08  0.28  1.64]\n",
      "[-2.6  -1.24  0.2   1.56]\n",
      "[-2.76 -1.32  0.12  1.56]\n",
      "[-2.12 -0.84  0.44  1.72]\n",
      "[-2.28 -1.    0.36  1.64]\n",
      "[-2.44 -1.08  0.28  1.64]\n",
      "[-1.88 -0.68  0.52  1.72]\n",
      "[-2.12 -0.84  0.44  1.72]\n",
      "[-2.2  -0.92  0.36  1.64]\n",
      "[-1.8 -0.6  0.6  1.8]\n",
      "[-1.96 -0.76  0.52  1.72]\n",
      "[-2.12 -0.84  0.44  1.72]\n"
     ]
    }
   ],
   "source": [
    "data = np.loadtxt('./pledd_all.dat', comments='#')\n",
    "z_low, z_high, mass_low, mass_high, logER, p, p_low, p_high, flag = data.transpose()\n",
    "\n",
    "mass = 0.5 * (mass_low + mass_high)\n",
    "\n",
    "z_low_uni = np.unique(z_low)\n",
    "z_high_uni = np.zeros(len(z_low_uni))\n",
    "\n",
    "for i in range(len(z_low_uni)):\n",
    "    z_high_uni[i] = np.unique(z_high[np.where(z_low == z_low_uni[i])[0]])\n",
    "\n",
    "print(z_low_uni)   \n",
    "print(z_high_uni)\n",
    "\n",
    "print(p_high / p)\n",
    "print(p / p_low)\n",
    "\n",
    "for i in range(len(z_low_uni)):\n",
    "    \n",
    "    z_mid = 0.5*(z_low_uni[i] + z_high_uni[i])\n",
    "    filename = ('./Aird_2018_z%.2f.qpdf' % z_mid)\n",
    "    f = open(filename, 'w')\n",
    "    f.write('#zlow: %.1f\\n#zhigh: %.1f\\n#ref: https://zenodo.org/record/1009605#.W85W6hNKifU\\n#type: qpdf_eta\\n' % (z_low_uni[i], z_high_uni[i]))\n",
    "    f.close()\n",
    "    \n",
    "    ind = np.where((z_low == z_low_uni[i]) & (z_high == z_high_uni[i]) & (flag == 1))[0]\n",
    "    \n",
    "    masses = np.unique(mass[ind])\n",
    "    for m in masses:\n",
    "        sub_ind = np.where(mass[ind] == m)\n",
    "        ERs = np.unique((logER[ind])[sub_ind])\n",
    "        ER_selected = np.unique([ERs[int(i * len(ERs) / 4)] for i in range(4)])\n",
    "        print(ER_selected)\n",
    "        for j in range(len(ER_selected)):\n",
    "            ind_select = np.where((z_low == z_low_uni[i]) & (z_high == z_high_uni[i]) & (flag == 1) & (mass == m) & (logER == ER_selected[j]))\n",
    "            #The factor of 1.65 comes from the fact that the stipulated uncertainties by James represent 90% credit interval.\n",
    "            data = np.array([mass[ind_select], logER[ind_select], np.log10(p[ind_select]), np.log10(p_high[ind_select] / p[ind_select]) / 1.65, np.log10(p[ind_select] / p_low[ind_select]) / 1.65])\n",
    "            df = pd.DataFrame(data=data.transpose(), columns=['mass', 'eta', 'prob', 'err_h', 'err_l'])\n",
    "            df.to_csv(filename, sep=' ', header=False, index=False, mode='a+')\n",
    "    "
   ]
  },
  {
   "cell_type": "code",
   "execution_count": null,
   "metadata": {},
   "outputs": [],
   "source": []
  }
 ],
 "metadata": {
  "kernelspec": {
   "display_name": "Python 3",
   "language": "python",
   "name": "python3"
  },
  "language_info": {
   "codemirror_mode": {
    "name": "ipython",
    "version": 3
   },
   "file_extension": ".py",
   "mimetype": "text/x-python",
   "name": "python",
   "nbconvert_exporter": "python",
   "pygments_lexer": "ipython3",
   "version": "3.6.5"
  }
 },
 "nbformat": 4,
 "nbformat_minor": 2
}
